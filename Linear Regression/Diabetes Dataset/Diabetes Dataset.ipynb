{
 "cells": [
  {
   "cell_type": "code",
   "execution_count": 163,
   "metadata": {},
   "outputs": [
    {
     "data": {
      "text/plain": [
       "(331, 11)"
      ]
     },
     "execution_count": 163,
     "metadata": {},
     "output_type": "execute_result"
    }
   ],
   "source": [
    "import numpy as np\n",
    "data=np.genfromtxt(\"Diabetes Train.csv\",delimiter=',')\n",
    "data1=np.genfromtxt(\"Diabetes Test.csv\",delimiter=',')"
   ]
  },
  {
   "cell_type": "code",
   "execution_count": 166,
   "metadata": {
    "scrolled": true
   },
   "outputs": [],
   "source": [
    "X_train=data[:,0:-1]\n",
    "Y_train=data[:,-1]"
   ]
  },
  {
   "cell_type": "code",
   "execution_count": 167,
   "metadata": {},
   "outputs": [
    {
     "data": {
      "text/plain": [
       "LinearRegression(copy_X=True, fit_intercept=True, n_jobs=1, normalize=False)"
      ]
     },
     "execution_count": 167,
     "metadata": {},
     "output_type": "execute_result"
    }
   ],
   "source": [
    "from sklearn.linear_model import LinearRegression\n",
    "alg1=LinearRegression()\n",
    "alg1.fit(X_train,Y_train)"
   ]
  },
  {
   "cell_type": "code",
   "execution_count": 168,
   "metadata": {},
   "outputs": [
    {
     "data": {
      "text/plain": [
       "array([  21.73408096, -256.66866675,  569.60940087,  303.63233545,\n",
       "       -833.11088526,  525.74313633,  136.07129167,  140.89458927,\n",
       "        731.44498492,   53.32119133])"
      ]
     },
     "execution_count": 168,
     "metadata": {},
     "output_type": "execute_result"
    }
   ],
   "source": [
    "# 10 slopes(m), corresponding to 10 columns(features)\n",
    "m=(alg1.coef_)\n",
    "m"
   ]
  },
  {
   "cell_type": "code",
   "execution_count": 169,
   "metadata": {},
   "outputs": [
    {
     "data": {
      "text/plain": [
       "150.702574894566"
      ]
     },
     "execution_count": 169,
     "metadata": {},
     "output_type": "execute_result"
    }
   ],
   "source": [
    "# Only 1 intercept(c) i.e, constant\n",
    "c=alg1.intercept_\n",
    "c"
   ]
  },
  {
   "cell_type": "code",
   "execution_count": 176,
   "metadata": {},
   "outputs": [
    {
     "data": {
      "text/plain": [
       "array([105.52975, 105.80392, 178.60857,  79.38288,  52.95869,  98.87264,\n",
       "       150.71755,  34.86515, 113.13536, 161.50184, 135.86156,  94.71592,\n",
       "       138.48094, 141.37442, 158.76863, 171.65289, 106.44836, 103.9266 ,\n",
       "        95.38694, 167.40118, 166.53426, 101.53465, 252.45036, 147.02259,\n",
       "       214.78907, 161.27557, 210.61315,  71.78092, 189.65032, 206.61343,\n",
       "       219.98643, 168.80193, 116.84846, 178.744  ,  77.03247,  59.54633,\n",
       "       111.56738, 156.95187, 154.59591, 198.94457, 115.53884, 153.46699,\n",
       "        84.9618 , 113.70337, 142.14156, 147.3104 ,  82.78072,  77.89237,\n",
       "       128.99006, 261.58712, 213.31188, 243.98791, 167.68132, 183.69712,\n",
       "       166.85927, 202.1144 , 220.39236, 172.40288, 176.60898, 109.04657,\n",
       "       276.3779 ,  90.99942, 289.37221, 119.56253,  75.45688, 180.78599,\n",
       "       146.62093, 156.42382,  41.07904, 247.90645, 207.99121,  90.09641,\n",
       "       222.2417 , 189.86378, 182.26954, 164.39881, 190.27067, 105.44868,\n",
       "       199.86136, 245.79639, 123.20281, 119.41032, 145.8662 , 206.19247,\n",
       "       150.86282, 142.23222, 154.56875, 115.29233, 134.0781 , 118.42225,\n",
       "       203.57676, 170.66484, 127.4098 ,  57.13508, 231.92227, 185.20714,\n",
       "       187.37495,  83.55921, 185.42586, 217.34036, 108.86715,  80.98715,\n",
       "       127.05524, 242.00739, 155.97234, 125.67575, 246.41236, 234.96393,\n",
       "       191.51298, 168.33254, 163.02965])"
      ]
     },
     "execution_count": 176,
     "metadata": {},
     "output_type": "execute_result"
    }
   ],
   "source": [
    "# Predicting the data against the X_test\n",
    "y_predict=alg1.predict(data1)\n",
    "y_round_pred=np.around(y_predict, decimals=5)\n",
    "y_round_pred"
   ]
  },
  {
   "cell_type": "code",
   "execution_count": 180,
   "metadata": {},
   "outputs": [],
   "source": [
    "# Saving file to a CSV file\n",
    "np.savetxt(\"Diabetes_Predicted.csv\",y_round_pred,fmt='%.5f')"
   ]
  }
 ],
 "metadata": {
  "kernelspec": {
   "display_name": "Python 3",
   "language": "python",
   "name": "python3"
  },
  "language_info": {
   "codemirror_mode": {
    "name": "ipython",
    "version": 3
   },
   "file_extension": ".py",
   "mimetype": "text/x-python",
   "name": "python",
   "nbconvert_exporter": "python",
   "pygments_lexer": "ipython3",
   "version": "3.6.5"
  }
 },
 "nbformat": 4,
 "nbformat_minor": 2
}
