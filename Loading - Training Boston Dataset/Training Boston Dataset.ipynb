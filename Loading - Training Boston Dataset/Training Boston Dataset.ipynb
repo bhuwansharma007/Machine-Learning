{
 "cells": [
  {
   "cell_type": "code",
   "execution_count": 2,
   "metadata": {},
   "outputs": [
    {
     "data": {
      "text/plain": [
       "sklearn.utils.Bunch"
      ]
     },
     "execution_count": 2,
     "metadata": {},
     "output_type": "execute_result"
    }
   ],
   "source": [
    "#Using Linear Regression Algorithm for Training and Testing\n",
    "#Importing Boston Dataset from sklearn(Sci-Kit Learn)\n",
    "\n",
    "from sklearn import datasets\n",
    "boston=datasets.load_boston()\n",
    "type(boston)"
   ]
  },
  {
   "cell_type": "code",
   "execution_count": 3,
   "metadata": {},
   "outputs": [],
   "source": [
    "X=boston.data\n",
    "Y=boston.target"
   ]
  },
  {
   "cell_type": "code",
   "execution_count": 7,
   "metadata": {},
   "outputs": [],
   "source": [
    "#Converting this data into DataFrame\n",
    "\n",
    "import pandas as pd\n",
    "df=pd.DataFrame(X)"
   ]
  },
  {
   "cell_type": "code",
   "execution_count": 8,
   "metadata": {},
   "outputs": [],
   "source": [
    "#Changing column names of DataFrame to the boston feature names\n",
    "df.columns=boston.feature_names"
   ]
  },
  {
   "cell_type": "code",
   "execution_count": 13,
   "metadata": {},
   "outputs": [
    {
     "data": {
      "text/plain": [
       "[array([[5.5007e-01, 2.0000e+01, 3.9700e+00, ..., 1.3000e+01, 3.8789e+02,\n",
       "         8.1000e+00],\n",
       "        [3.1636e+00, 0.0000e+00, 1.8100e+01, ..., 2.0200e+01, 3.3440e+02,\n",
       "         1.4130e+01],\n",
       "        [2.4980e-02, 0.0000e+00, 1.8900e+00, ..., 1.5900e+01, 3.8996e+02,\n",
       "         8.6500e+00],\n",
       "        ...,\n",
       "        [1.7090e-02, 9.0000e+01, 2.0200e+00, ..., 1.7000e+01, 3.8446e+02,\n",
       "         4.5000e+00],\n",
       "        [5.5150e-02, 3.3000e+01, 2.1800e+00, ..., 1.8400e+01, 3.9368e+02,\n",
       "         6.9300e+00],\n",
       "        [1.5288e+01, 0.0000e+00, 1.8100e+01, ..., 2.0200e+01, 3.6302e+02,\n",
       "         2.3240e+01]]),\n",
       " array([[7.84200e-01, 0.00000e+00, 8.14000e+00, ..., 2.10000e+01,\n",
       "         3.86750e+02, 1.46700e+01],\n",
       "        [5.57780e-01, 0.00000e+00, 2.18900e+01, ..., 2.12000e+01,\n",
       "         3.94670e+02, 1.69600e+01],\n",
       "        [6.12900e-02, 2.00000e+01, 3.33000e+00, ..., 1.49000e+01,\n",
       "         3.77070e+02, 3.01000e+00],\n",
       "        ...,\n",
       "        [1.42362e+01, 0.00000e+00, 1.81000e+01, ..., 2.02000e+01,\n",
       "         3.96900e+02, 2.03200e+01],\n",
       "        [3.47428e+00, 0.00000e+00, 1.81000e+01, ..., 2.02000e+01,\n",
       "         3.54550e+02, 5.29000e+00],\n",
       "        [1.58744e+01, 0.00000e+00, 1.81000e+01, ..., 2.02000e+01,\n",
       "         3.96900e+02, 2.10800e+01]]),\n",
       " array([36.5, 19.9, 16.5, 14.4, 17.8, 13.4, 18.3, 16.5, 44.8, 19.5, 14.9,\n",
       "        20.5, 14.6, 33.8, 30.1, 50. , 24.8, 16.1, 41.3, 22.2, 15.2, 22.8,\n",
       "        34.6, 16. ,  7.5, 17.1, 34.9, 35.4, 31.1, 32.2, 17.2, 14.3, 24.7,\n",
       "        28.2, 20.3, 20.8, 21.4, 13.4, 20.1, 23.4, 48.3, 27. , 10.5, 18.5,\n",
       "        22.6, 24.1, 29.4, 24. , 22.3, 31.2, 15. , 17.8, 20.5, 25.1, 20.6,\n",
       "        13.8, 30.7, 21.7, 19. , 23. , 23.2, 23.1, 13.8, 12.3, 19.6, 20. ,\n",
       "        18.4, 22.2, 23.1, 46.7, 33.1, 19.4, 12.6, 20.2, 24.2, 13. , 13.4,\n",
       "        33.3, 16.7, 17.4, 20.3, 28.1, 23.2, 24.5, 23.1, 14.6, 50. , 19.1,\n",
       "        22. , 22.2, 24.1,  9.6, 21.2,  7. , 20.4, 28.7, 21.7, 19.7, 13.2,\n",
       "        42.8, 27.5, 11.7, 21.2, 19.4, 22.4, 17. , 24. , 31.5, 22.9, 50. ,\n",
       "        32. , 31.6, 21. , 23.9, 19.3, 20.4, 27.1, 19.7, 37.3, 20.1, 23.9,\n",
       "        19.6, 30.3, 20.3, 21.8, 14.5, 10.4, 24.5, 23.3, 26.7, 27.9, 32. ,\n",
       "         6.3, 17.1, 19.4, 10.2, 24.5, 23.9, 33. , 16.8, 13.3, 15.6, 18.5,\n",
       "        17.5, 22.5, 33.2, 21.5, 20.8, 23.6, 14.4, 21. , 20.6, 24.7, 15.6,\n",
       "        21.7, 20.9, 18.8, 24.1, 23.1, 25. , 13.1, 15.6, 15. , 11.9, 12.7,\n",
       "        14.1, 21.7, 19.9, 20.1,  5. , 22. , 21.7, 17.2, 14. , 21. , 21.2,\n",
       "        50. , 21.6, 15.6, 23.1, 16.6, 12.8, 48.5, 20.7, 22.4, 22.2, 24.8,\n",
       "        22.5, 25. , 18.7, 10.9,  8.1, 31. , 19.5, 43.1, 13.8, 41.7, 30.5,\n",
       "        20.4, 13.3,  8.5, 27.5, 45.4, 20.6, 26.4,  9.7, 22.9, 22.8, 23.3,\n",
       "        23.7, 15.4, 20. , 10.2, 23. , 21.5, 15.1, 15.6, 13.1,  8.3, 28. ,\n",
       "        21.8, 23.8, 30.8, 27.5, 22. , 50. , 29.6, 34.7, 50. , 13.8, 19.3,\n",
       "        14.8, 29.8,  7.4, 24.3, 11.9, 24.4, 37.2, 14.9,  8.5, 29. , 31.5,\n",
       "        14.2,  8.3, 19.3, 17.5, 13.8, 19.9, 16.2, 20.6, 13.5, 26.4, 36. ,\n",
       "        15.2, 11.3, 20.5, 13.4, 26.5,  9.5, 23.1, 21.4, 20.2, 50. , 18.7,\n",
       "        16.1, 19.9, 28.7,  5. , 19.2, 19.8, 14.5,  7.2, 22. , 50. , 13.6,\n",
       "        15. , 19.3, 18.5, 22.9, 23.2, 48.8, 19.4, 43.8, 35.4,  5.6, 24.7,\n",
       "         8.7, 43.5, 36.2, 22.7, 22.8, 28.7, 28.4, 17.3, 50. , 17.1, 13.5,\n",
       "         8.4, 23.4, 33.4, 21.2, 16.3, 21.2, 32.5, 22.8, 29.9, 50. , 19.5,\n",
       "        26.2, 24.4, 22.6, 18. , 21.9, 19.1, 13.1, 18.2, 36.2, 12. , 11.7,\n",
       "        10.5, 18.8, 19.4, 26.6, 31.6, 23.7, 18.4, 24.6, 23.9,  8.8, 19.6,\n",
       "        29.1, 25. , 21.6, 13.6, 23.7, 29.8,  8.4, 25.3, 22. , 18.2, 20.6,\n",
       "        22.5, 13.3, 20.9, 42.3, 25. , 20.3,  7.2, 28.5, 17.8, 14.5, 21.7,\n",
       "        18.9, 25. , 20.4, 34.9, 31.7, 50. , 28.4, 36.4, 50. , 20.1, 12.7,\n",
       "        19.3, 17.4, 16.2, 50. , 23.6, 22. , 17.6, 13.9, 17.8, 25. , 17.4,\n",
       "        33.4, 24.3, 30.1, 36.1, 13.9]),\n",
       " array([17.5, 18.1, 46. , 27.5,  7. , 10.8, 18.2, 20. , 11.5, 27.1, 37.6,\n",
       "        26.6, 25. , 11.8, 22.2, 15.3, 18.9, 34.9, 37.9, 17.9, 22.6, 18.9,\n",
       "        16.7, 19.2, 18.5, 21.4, 30.1, 37. , 19.6, 23. , 14.1, 35.1, 19.1,\n",
       "        12.1, 19.4, 20.8, 11.8, 18.9, 12.7, 13.1, 11. , 23.8, 19.8, 16.1,\n",
       "        18.6, 10.4, 22.7, 23.5, 26.6, 35.2, 20.6, 21.4, 19.5, 38.7, 19.1,\n",
       "        21.9, 15.4, 16.8, 50. , 21.4, 15.7, 24.4, 19.8, 25.2, 23.8, 14.1,\n",
       "        29.6, 28.6, 22. , 15.2, 22.1, 20.7, 24.3, 24.4, 24.8, 14.9, 18.4,\n",
       "        32.4, 23.7,  8.8, 22.9, 17.7, 33.2, 44. , 27.9, 20. , 23.2, 23. ,\n",
       "        20.1, 10.2, 21.1, 23.1, 50. , 18.7, 16.6, 21.7, 22.6, 24.6, 33.1,\n",
       "        12.5, 29. , 50. , 17.2, 17.8, 18.6, 29.1, 25. , 16.4, 32.9, 22.6,\n",
       "        24.8, 32.7, 21.1, 23.3, 18.3, 23.9, 23.3, 23.8, 22.3, 19. , 19.6,\n",
       "        14.3, 39.8, 20. ,  7.2, 21.9, 10.9])]"
      ]
     },
     "execution_count": 13,
     "metadata": {},
     "output_type": "execute_result"
    }
   ],
   "source": [
    "#Splitting of data in Random Order, so that we won't miss new trend of data, using sklearn\n",
    "#Splitting into 2 parts-> Train and Test\n",
    "#We get 4 arrays-> X_train,X_test,Y_train,Y_test\n",
    "from sklearn import model_selection\n",
    "X_train,X_test,Y_train,Y_test=model_selection.train_test_split(X,Y)"
   ]
  },
  {
   "cell_type": "code",
   "execution_count": 18,
   "metadata": {},
   "outputs": [
    {
     "name": "stdout",
     "output_type": "stream",
     "text": [
      "(379, 13)\n",
      "(127, 13)\n",
      "(379,)\n",
      "(127,)\n"
     ]
    }
   ],
   "source": [
    "#X is boston data and Y is target, so Y is having only 1 column, which is targrt value and X has 13 attributes\n",
    "print(X_train.shape)\n",
    "print(X_test.shape)\n",
    "print(Y_train.shape)\n",
    "print(Y_test.shape)"
   ]
  },
  {
   "cell_type": "code",
   "execution_count": 21,
   "metadata": {},
   "outputs": [
    {
     "data": {
      "text/plain": [
       "LinearRegression(copy_X=True, fit_intercept=True, n_jobs=1, normalize=False)"
      ]
     },
     "execution_count": 21,
     "metadata": {},
     "output_type": "execute_result"
    }
   ],
   "source": [
    "#Getting the Linear Regression Algo\n",
    "from sklearn.linear_model import LinearRegression\n",
    "algo=LinearRegression() #Here we get the algorithm object, that we can use to train & test data\n",
    "########################################## ALGO LEARNING THE TRAINING DATA ############################################\n",
    "algo.fit(X_train,Y_train)"
   ]
  },
  {
   "cell_type": "code",
   "execution_count": 28,
   "metadata": {},
   "outputs": [
    {
     "data": {
      "text/plain": [
       "array([ 6.70325183, 33.46051693, 16.05570224, 17.57452552, 17.98934854,\n",
       "       17.30365239, 19.75655219, 40.34329707, 36.75100173, 20.49562463,\n",
       "       18.1924381 , 28.98928123, 22.4726337 , 25.0565065 , 29.89368128,\n",
       "       22.68779803, 32.48812342, 15.39408779, 18.65156507, 31.95845375,\n",
       "       18.38534167, 31.4423932 , 22.39500341, 24.18006304, 20.3195696 ,\n",
       "       25.10018789, 18.03555394, 19.14328544, 24.09131371, 27.10490217,\n",
       "       23.1707808 ,  8.19102109, 22.72341721, 11.33698783, 15.32535872,\n",
       "       13.18190988, 13.88133399, 22.66294962, 29.15691702,  8.74317925,\n",
       "       35.99513333, 18.16636878, 33.70787336, 31.97494472, 11.3447755 ,\n",
       "       28.48223858, 31.87990595, 35.45546678, 24.51636298, 25.70669506,\n",
       "       21.7050602 , 20.40736438, 16.9435016 , 31.35220697, 19.41108565,\n",
       "       16.13462521, 20.97762957, 22.89468708, 25.38553793, 30.7339328 ,\n",
       "       13.2692183 , 24.59186413, 31.04494043,  7.66991521, 21.94500162,\n",
       "       40.06360581, 16.630775  , 15.87011935, 17.25651551, 20.39668461,\n",
       "       18.61193537, 15.6511835 , 33.57841205, 27.3811793 , 15.97738921,\n",
       "       16.81602452, 30.84643645, 36.40907941, 22.08194215, 16.87264159,\n",
       "       33.52865912, 19.27362648, 35.60408186,  9.66829105, 12.89519931,\n",
       "       23.23359555, 17.08248065, 28.33524658, 39.61711341, 18.53795155,\n",
       "        9.57512111, 29.73736771,  8.6203755 , 24.28545774, 17.78093001,\n",
       "       21.23758143, 25.654982  , 20.99275275, 35.41265788, 22.07387071,\n",
       "        6.42446625, 22.21622985, 23.71803431, 24.16727129, 27.04155389,\n",
       "       19.669217  , 20.16807063, 32.74691327, 33.38343715, 32.29837269,\n",
       "       31.73532609, 35.71130863, 22.20150993,  5.76957911, 22.68772263,\n",
       "       23.86222263, 24.10550958, 19.16323228, 21.89128332, 26.94212415,\n",
       "       20.39023437, 30.47472124, 16.79614723, 20.52003948, 35.22388384,\n",
       "       28.49097573, 41.43115238])"
      ]
     },
     "execution_count": 28,
     "metadata": {},
     "output_type": "execute_result"
    }
   ],
   "source": [
    "#After training, now testing it\n",
    "Y_predict=algo.predict(X_test)"
   ]
  },
  {
   "cell_type": "code",
   "execution_count": 31,
   "metadata": {},
   "outputs": [
    {
     "data": {
      "image/png": "[encoded data removed]",
      "text/plain": [
       "<Figure size 432x288 with 1 Axes>"
      ]
     },
     "metadata": {},
     "output_type": "display_data"
    }
   ],
   "source": [
    "#Figuring out the comaprsion between the predicted and actual output using Plotting them\n",
    "import matplotlib.pyplot as plt\n",
    "plt.scatter(Y_test,Y_predict)\n",
    "plt.axis([0,40,0,40])\n",
    "plt.show()"
   ]
  }
 ],
 "metadata": {
  "kernelspec": {
   "display_name": "Python 3",
   "language": "python",
   "name": "python3"
  },
  "language_info": {
   "codemirror_mode": {
    "name": "ipython",
    "version": 3
   },
   "file_extension": ".py",
   "mimetype": "text/x-python",
   "name": "python",
   "nbconvert_exporter": "python",
   "pygments_lexer": "ipython3",
   "version": "3.6.5"
  }
 },
 "nbformat": 4,
 "nbformat_minor": 2
}
